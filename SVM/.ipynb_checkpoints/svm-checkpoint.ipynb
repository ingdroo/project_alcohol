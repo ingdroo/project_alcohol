{
 "cells": [
  {
   "cell_type": "code",
   "execution_count": 1,
   "metadata": {},
   "outputs": [
    {
     "name": "stderr",
     "output_type": "stream",
     "text": [
      "*c* argument looks like a single numeric RGB or RGBA sequence, which should be avoided as value-mapping will have precedence in case its length matches with *x* & *y*.  Please use the *color* keyword-argument or provide a 2-D array with a single row if you intend to specify the same RGB or RGBA value for all points.\n",
      "*c* argument looks like a single numeric RGB or RGBA sequence, which should be avoided as value-mapping will have precedence in case its length matches with *x* & *y*.  Please use the *color* keyword-argument or provide a 2-D array with a single row if you intend to specify the same RGB or RGBA value for all points.\n"
     ]
    },
    {
     "name": "stdout",
     "output_type": "stream",
     "text": [
      "   sepal length (cm)  petal length (cm)  target\n",
      "0                5.1                1.4       0\n",
      "1                4.9                1.4       0\n",
      "2                4.7                1.3       0\n",
      "3                4.6                1.5       0\n",
      "4                5.0                1.4       0\n",
      "5                5.4                1.7       0\n",
      "6                4.6                1.4       0\n",
      "[0 1 0 1 1 1 0 1 1 1 1 1 1 0 0 0 0 0 0 0 0 1 0 1 0 0 0 1 1 1]\n",
      "[0 1 0 1 1 1 0 1 1 1 1 1 1 0 0 0 0 0 0 0 0 1 0 1 0 0 0 1 1 1]\n"
     ]
    },
    {
     "data": {
      "image/png": "[encoded data removed]",
      "text/plain": [
       "<Figure size 432x288 with 1 Axes>"
      ]
     },
     "metadata": {
      "needs_background": "light"
     },
     "output_type": "display_data"
    },
    {
     "name": "stderr",
     "output_type": "stream",
     "text": [
      "*c* argument looks like a single numeric RGB or RGBA sequence, which should be avoided as value-mapping will have precedence in case its length matches with *x* & *y*.  Please use the *color* keyword-argument or provide a 2-D array with a single row if you intend to specify the same RGB or RGBA value for all points.\n",
      "*c* argument looks like a single numeric RGB or RGBA sequence, which should be avoided as value-mapping will have precedence in case its length matches with *x* & *y*.  Please use the *color* keyword-argument or provide a 2-D array with a single row if you intend to specify the same RGB or RGBA value for all points.\n"
     ]
    },
    {
     "data": {
      "image/png": "[encoded data removed]",
      "text/plain": [
       "<Figure size 432x288 with 1 Axes>"
      ]
     },
     "metadata": {
      "needs_background": "light"
     },
     "output_type": "display_data"
    }
   ],
   "source": [
    "##Step1--建立資料集\n",
    "import pandas as pd  #讓使用者快速操作及分析資料\n",
    "import numpy as np\n",
    "from sklearn import datasets #引進sklearn中的數據集，可配搭含式來取用的回傳的數據集，按TAB鍵可以查看到有哪些資料及在datasets當中\n",
    "from sklearn.model_selection import train_test_split  #從sklearn抓train_test_split，隨機劃分訓練集和測試集\n",
    "from sklearn.preprocessing import StandardScaler  #資料前處理，針對平均值和標準差\n",
    "import matplotlib.pyplot as plt\n",
    "from matplotlib.colors import ListedColormap  #用於將顏色或數字參數轉換為RGBA或RGB\n",
    "from sklearn.svm import SVC  #SVM machine learning\n",
    "#作用是內嵌畫圖，省略掉plt.show()這一步，直接顯示圖像\n",
    "%matplotlib inline\n",
    "\n",
    "#鳶尾花資料載入\n",
    "iris = datasets.load_iris()\n",
    "#print(iris)\n",
    "#自訂義資料框 DataFrame(行,列)\n",
    "x = pd.DataFrame(iris['data'], columns = iris['feature_names'])\n",
    "y = pd.DataFrame(iris['target'], columns = ['target'])\n",
    "#print(x)\n",
    "#print(y)\n",
    "\n",
    "iris_data = pd.concat([x,y], axis=1) #pd.concat可以合併資料集，這邊合併剛才的資料與標記好的label\n",
    "#print(iris_data.head(5)) #可以查看到前五筆資料\n",
    "iris_data = iris_data[['sepal length (cm)','petal length (cm)','target']]\n",
    "iris_data = iris_data[iris_data['target'].isin([0,1])]\n",
    "print(iris_data.head(7))\n",
    "\n",
    "#train_test_split()可以切分資料集\n",
    "#給兩個數據集去讓函式切分\n",
    "#test可以給定想切分的占比\n",
    "#random設定0會讓每次切分的結果隨機，設定1就可以固定每次切分相同的數據出來\n",
    "X_train, X_test, y_train, y_test = train_test_split(\n",
    "    iris_data[['sepal length (cm)','petal length (cm)']], iris_data[['target']], test_size=0.3, random_state=0)\n",
    "\n",
    "#資料前處理(這裡是平均&變異數的標準化)\n",
    "#因為標準化可以幫助機器學習訓練的時候有更好的資料結構，進而提高資料的準確度\n",
    "sc = StandardScaler()\n",
    "#fit()使模型收斂\n",
    "sc.fit(X_train)\n",
    "X_train_std = sc.transform(X_train)\n",
    "X_test_std = sc.transform(X_test)\n",
    "#print(X_train_std)\n",
    "#print(X_test_std)\n",
    "\n",
    "\n",
    "##svm()有許多用法，以下給這兩個不同函數測試\n",
    "\n",
    "#1.exp函數\n",
    "#C 懲罰係數(用來調整擬合度)\n",
    "#kernel 決定svc要使用的函數\n",
    "#gamma 調整支持向量個數的參數\n",
    "model = SVC(C=1.0, kernel='rbf', gamma='auto')\n",
    "#建立模型\n",
    "model.fit(X_train_std, y_train['target'].values)\n",
    "#print(model.predict(X_test_std))\n",
    "#print(y_test['target'].values)\n",
    "\n",
    "#2.線性函數\n",
    "model2 = SVC(kernel='linear', probability=True)\n",
    "model2.fit(X_train_std, y_train['target'].values)\n",
    "print(model2.predict(X_test_std))\n",
    "print(y_test['target'].values)\n",
    "##雖然這邊看不太出差異，不過可以由底下的圖示看出來切分的方式上呈現的差異\n",
    "\n",
    "#圖形繪製\n",
    "def plot_decision_regions(X, y, classifier, test_idx=None, resolution=0.02):\n",
    "\n",
    "    # setup marker generator and color map\n",
    "    markers = ('s', 'x', 'o', '^', 'v')\n",
    "    colors = ('red', 'blue', 'lightgreen', 'gray', 'cyan')\n",
    "    cmap = ListedColormap(colors[:len(np.unique(y))])\n",
    "\n",
    "    # plot the decision surface\n",
    "    x1_min, x1_max = X[:, 0].min() - 1, X[:, 0].max() + 1\n",
    "    x2_min, x2_max = X[:, 1].min() - 1, X[:, 1].max() + 1\n",
    "    xx1, xx2 = np.meshgrid(np.arange(x1_min, x1_max, resolution),\n",
    "                           np.arange(x2_min, x2_max, resolution))\n",
    "    Z = classifier.predict(np.array([xx1.ravel(), xx2.ravel()]).T)\n",
    "    Z = Z.reshape(xx1.shape)\n",
    "    plt.contourf(xx1, xx2, Z, alpha=0.4, cmap=cmap)\n",
    "    plt.xlim(xx1.min(), xx1.max())\n",
    "    plt.ylim(xx2.min(), xx2.max())\n",
    "\n",
    "    for idx, cl in enumerate(np.unique(y)):\n",
    "        plt.scatter(x=X[y == cl, 0], \n",
    "                    y=X[y == cl, 1],\n",
    "                    alpha=0.6, \n",
    "                    c=cmap(idx),\n",
    "                    edgecolor='black',\n",
    "                    marker=markers[idx], \n",
    "                    label=cl)\n",
    "\n",
    "    # highlight test samples\n",
    "    if test_idx:\n",
    "        # plot all samples\n",
    "        if not versiontuple(np.__version__) >= versiontuple('1.9.0'):\n",
    "            X_test, y_test = X[list(test_idx), :], y[list(test_idx)]\n",
    "            warnings.warn('Please update to NumPy 1.9.0 or newer')\n",
    "        else:\n",
    "            X_test, y_test = X[test_idx, :], y[test_idx]\n",
    "\n",
    "        plt.scatter(X_test[:, 0],\n",
    "                    X_test[:, 1],\n",
    "                    c='',\n",
    "                    alpha=1.0,\n",
    "                    edgecolor='black',\n",
    "                    linewidths=1,\n",
    "                    marker='o',\n",
    "                    s=55, label='test set')\n",
    "        \n",
    "plot_decision_regions(X_train_std, y_train['target'].values, classifier=model)\n",
    "plt.xlabel('sepal length [standardized]')\n",
    "plt.ylabel('petal width [standardized]')\n",
    "plt.legend(loc='upper left')\n",
    "plt.tight_layout()\n",
    "plt.show()\n",
    "\n",
    "plot_decision_regions(X_train_std, y_train['target'].values, classifier=model2)\n",
    "plt.xlabel('sepal length [standardized]')\n",
    "plt.ylabel('petal width [standardized]')\n",
    "plt.legend(loc='upper left')\n",
    "plt.tight_layout()\n",
    "plt.show()"
   ]
  },
  {
   "cell_type": "code",
   "execution_count": null,
   "metadata": {},
   "outputs": [],
   "source": []
  }
 ],
 "metadata": {
  "kernelspec": {
   "display_name": "Python 3",
   "language": "python",
   "name": "python3"
  },
  "language_info": {
   "codemirror_mode": {
    "name": "ipython",
    "version": 3
   },
   "file_extension": ".py",
   "mimetype": "text/x-python",
   "name": "python",
   "nbconvert_exporter": "python",
   "pygments_lexer": "ipython3",
   "version": "3.8.3"
  }
 },
 "nbformat": 4,
 "nbformat_minor": 4
}
